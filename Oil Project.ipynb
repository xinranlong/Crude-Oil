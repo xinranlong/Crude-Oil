{
 "cells": [
  {
   "cell_type": "code",
   "execution_count": 1,
   "metadata": {},
   "outputs": [],
   "source": [
    "import pandas as pd\n",
    "import numpy as np\n",
    "import matplotlib\n",
    "%matplotlib inline\n",
    "import matplotlib.pyplot as plt\n",
    "import seaborn as sns"
   ]
  },
  {
   "cell_type": "code",
   "execution_count": 2,
   "metadata": {},
   "outputs": [
    {
     "name": "stdout",
     "output_type": "stream",
     "text": [
      "<class 'pandas.core.frame.DataFrame'>\n",
      "DatetimeIndex: 9356 entries, 2020-07-07 to 1983-04-04\n",
      "Data columns (total 1 columns):\n",
      "Price    9356 non-null float64\n",
      "dtypes: float64(1)\n",
      "memory usage: 146.2 KB\n"
     ]
    }
   ],
   "source": [
    "WTIprice=pd.read_csv(\"Cushing_OK_Crude_Oil_Future_Contract_1.csv\",skiprows=4,parse_dates=[\"Day\"],index_col=\"Day\")\n",
    "WTIprice.columns=['Price']\n",
    "WTIprice.info()"
   ]
  },
  {
   "cell_type": "code",
   "execution_count": 3,
   "metadata": {},
   "outputs": [
    {
     "data": {
      "text/html": [
       "<div>\n",
       "<style scoped>\n",
       "    .dataframe tbody tr th:only-of-type {\n",
       "        vertical-align: middle;\n",
       "    }\n",
       "\n",
       "    .dataframe tbody tr th {\n",
       "        vertical-align: top;\n",
       "    }\n",
       "\n",
       "    .dataframe thead th {\n",
       "        text-align: right;\n",
       "    }\n",
       "</style>\n",
       "<table border=\"1\" class=\"dataframe\">\n",
       "  <thead>\n",
       "    <tr style=\"text-align: right;\">\n",
       "      <th></th>\n",
       "      <th>Price</th>\n",
       "    </tr>\n",
       "    <tr>\n",
       "      <th>Day</th>\n",
       "      <th></th>\n",
       "    </tr>\n",
       "  </thead>\n",
       "  <tbody>\n",
       "    <tr>\n",
       "      <td>2020-01-03</td>\n",
       "      <td>63.05</td>\n",
       "    </tr>\n",
       "  </tbody>\n",
       "</table>\n",
       "</div>"
      ],
      "text/plain": [
       "            Price\n",
       "Day              \n",
       "2020-01-03  63.05"
      ]
     },
     "execution_count": 3,
     "metadata": {},
     "output_type": "execute_result"
    }
   ],
   "source": [
    "WTIprice.loc[\"2020-01-03\"]"
   ]
  },
  {
   "cell_type": "code",
   "execution_count": 4,
   "metadata": {},
   "outputs": [
    {
     "name": "stdout",
     "output_type": "stream",
     "text": [
      "<class 'pandas.core.frame.DataFrame'>\n",
      "DatetimeIndex: 128 entries, 2020-07-07 to 2020-01-03\n",
      "Data columns (total 1 columns):\n",
      "Price    128 non-null float64\n",
      "dtypes: float64(1)\n",
      "memory usage: 2.0 KB\n"
     ]
    }
   ],
   "source": [
    "oneyear_WTIprice=WTIprice[:\"2020-01-03\"]\n",
    "oneyear_WTIprice.info()"
   ]
  },
  {
   "cell_type": "code",
   "execution_count": 5,
   "metadata": {},
   "outputs": [
    {
     "data": {
      "text/html": [
       "<div>\n",
       "<style scoped>\n",
       "    .dataframe tbody tr th:only-of-type {\n",
       "        vertical-align: middle;\n",
       "    }\n",
       "\n",
       "    .dataframe tbody tr th {\n",
       "        vertical-align: top;\n",
       "    }\n",
       "\n",
       "    .dataframe thead th {\n",
       "        text-align: right;\n",
       "    }\n",
       "</style>\n",
       "<table border=\"1\" class=\"dataframe\">\n",
       "  <thead>\n",
       "    <tr style=\"text-align: right;\">\n",
       "      <th></th>\n",
       "      <th>Price</th>\n",
       "    </tr>\n",
       "    <tr>\n",
       "      <th>Day</th>\n",
       "      <th></th>\n",
       "    </tr>\n",
       "  </thead>\n",
       "  <tbody>\n",
       "    <tr>\n",
       "      <td>2020-01-03</td>\n",
       "      <td>63.05</td>\n",
       "    </tr>\n",
       "    <tr>\n",
       "      <td>2020-01-06</td>\n",
       "      <td>63.27</td>\n",
       "    </tr>\n",
       "    <tr>\n",
       "      <td>2020-01-07</td>\n",
       "      <td>62.70</td>\n",
       "    </tr>\n",
       "    <tr>\n",
       "      <td>2020-01-08</td>\n",
       "      <td>59.61</td>\n",
       "    </tr>\n",
       "    <tr>\n",
       "      <td>2020-01-09</td>\n",
       "      <td>59.56</td>\n",
       "    </tr>\n",
       "    <tr>\n",
       "      <td>...</td>\n",
       "      <td>...</td>\n",
       "    </tr>\n",
       "    <tr>\n",
       "      <td>2020-06-30</td>\n",
       "      <td>39.27</td>\n",
       "    </tr>\n",
       "    <tr>\n",
       "      <td>2020-07-01</td>\n",
       "      <td>39.82</td>\n",
       "    </tr>\n",
       "    <tr>\n",
       "      <td>2020-07-02</td>\n",
       "      <td>40.65</td>\n",
       "    </tr>\n",
       "    <tr>\n",
       "      <td>2020-07-06</td>\n",
       "      <td>40.63</td>\n",
       "    </tr>\n",
       "    <tr>\n",
       "      <td>2020-07-07</td>\n",
       "      <td>40.62</td>\n",
       "    </tr>\n",
       "  </tbody>\n",
       "</table>\n",
       "<p>128 rows × 1 columns</p>\n",
       "</div>"
      ],
      "text/plain": [
       "            Price\n",
       "Day              \n",
       "2020-01-03  63.05\n",
       "2020-01-06  63.27\n",
       "2020-01-07  62.70\n",
       "2020-01-08  59.61\n",
       "2020-01-09  59.56\n",
       "...           ...\n",
       "2020-06-30  39.27\n",
       "2020-07-01  39.82\n",
       "2020-07-02  40.65\n",
       "2020-07-06  40.63\n",
       "2020-07-07  40.62\n",
       "\n",
       "[128 rows x 1 columns]"
      ]
     },
     "execution_count": 5,
     "metadata": {},
     "output_type": "execute_result"
    }
   ],
   "source": [
    "oneyear_WTIprice.sort_index()"
   ]
  },
  {
   "cell_type": "code",
   "execution_count": 6,
   "metadata": {},
   "outputs": [
    {
     "name": "stderr",
     "output_type": "stream",
     "text": [
      "/Users/xinranlong/opt/anaconda3/lib/python3.7/site-packages/pandas/plotting/_matplotlib/converter.py:103: FutureWarning: Using an implicitly registered datetime converter for a matplotlib plotting method. The converter was registered by pandas on import. Future versions of pandas will require you to explicitly register matplotlib converters.\n",
      "\n",
      "To register the converters:\n",
      "\t>>> from pandas.plotting import register_matplotlib_converters\n",
      "\t>>> register_matplotlib_converters()\n",
      "  warnings.warn(msg, FutureWarning)\n"
     ]
    },
    {
     "data": {
      "image/png": "[encoded data removed]",
      "text/plain": [
       "<Figure size 432x288 with 1 Axes>"
      ]
     },
     "metadata": {
      "needs_background": "light"
     },
     "output_type": "display_data"
    }
   ],
   "source": [
    "plt.plot(oneyear_WTIprice)\n",
    "plt.title('WTI Crude Oil Price')\n",
    "plt.ylabel('Dollars per Barrel($)');\n",
    "plt.show()"
   ]
  },
  {
   "cell_type": "markdown",
   "metadata": {},
   "source": [
    "##https://towardsdatascience.com/time-series-analysis-in-python-an-introduction-70d5a5b1d52a"
   ]
  },
  {
   "cell_type": "code",
   "execution_count": 7,
   "metadata": {},
   "outputs": [
    {
     "name": "stdout",
     "output_type": "stream",
     "text": [
      "<class 'pandas.core.frame.DataFrame'>\n",
      "DatetimeIndex: 158 entries, 2020-01-03 to 2020-07-10\n",
      "Data columns (total 6 columns):\n",
      "Open         149 non-null float64\n",
      "High         149 non-null float64\n",
      "Low          149 non-null float64\n",
      "Close        149 non-null float64\n",
      "Adj Close    149 non-null float64\n",
      "Volume       149 non-null float64\n",
      "dtypes: float64(6)\n",
      "memory usage: 8.6 KB\n"
     ]
    }
   ],
   "source": [
    "#Brent Crude Price\n",
    "BrentPrice=pd.read_csv(\"BrentPrice.csv\",parse_dates=[\"Date\"],index_col=\"Date\")\n",
    "BrentPrice.info()"
   ]
  },
  {
   "cell_type": "code",
   "execution_count": 8,
   "metadata": {
    "scrolled": true
   },
   "outputs": [
    {
     "data": {
      "image/png": "[encoded data removed]",
      "text/plain": [
       "<Figure size 432x288 with 1 Axes>"
      ]
     },
     "metadata": {
      "needs_background": "light"
     },
     "output_type": "display_data"
    }
   ],
   "source": [
    "#Plot Brent Price Change\n",
    "plt.plot(BrentPrice.index,BrentPrice['Adj Close'],'r')\n",
    "plt.title('Brent Crude Oil Price')\n",
    "plt.ylabel('Dollars per Barrel($)');\n",
    "plt.show()"
   ]
  },
  {
   "cell_type": "code",
   "execution_count": 9,
   "metadata": {},
   "outputs": [
    {
     "name": "stdout",
     "output_type": "stream",
     "text": [
      "<class 'pandas.core.frame.DataFrame'>\n",
      "DatetimeIndex: 158 entries, 2020-01-03 to 2020-07-10\n",
      "Data columns (total 1 columns):\n",
      "Adj Close    149 non-null float64\n",
      "dtypes: float64(1)\n",
      "memory usage: 2.5 KB\n"
     ]
    },
    {
     "data": {
      "text/html": [
       "<div>\n",
       "<style scoped>\n",
       "    .dataframe tbody tr th:only-of-type {\n",
       "        vertical-align: middle;\n",
       "    }\n",
       "\n",
       "    .dataframe tbody tr th {\n",
       "        vertical-align: top;\n",
       "    }\n",
       "\n",
       "    .dataframe thead th {\n",
       "        text-align: right;\n",
       "    }\n",
       "</style>\n",
       "<table border=\"1\" class=\"dataframe\">\n",
       "  <thead>\n",
       "    <tr style=\"text-align: right;\">\n",
       "      <th></th>\n",
       "      <th>Adj Close</th>\n",
       "    </tr>\n",
       "    <tr>\n",
       "      <th>Date</th>\n",
       "      <th></th>\n",
       "    </tr>\n",
       "  </thead>\n",
       "  <tbody>\n",
       "    <tr>\n",
       "      <td>2020-01-03</td>\n",
       "      <td>68.660004</td>\n",
       "    </tr>\n",
       "    <tr>\n",
       "      <td>2020-01-05</td>\n",
       "      <td>69.559998</td>\n",
       "    </tr>\n",
       "    <tr>\n",
       "      <td>2020-01-06</td>\n",
       "      <td>68.500000</td>\n",
       "    </tr>\n",
       "    <tr>\n",
       "      <td>2020-01-07</td>\n",
       "      <td>70.800003</td>\n",
       "    </tr>\n",
       "    <tr>\n",
       "      <td>2020-01-08</td>\n",
       "      <td>65.709999</td>\n",
       "    </tr>\n",
       "  </tbody>\n",
       "</table>\n",
       "</div>"
      ],
      "text/plain": [
       "            Adj Close\n",
       "Date                 \n",
       "2020-01-03  68.660004\n",
       "2020-01-05  69.559998\n",
       "2020-01-06  68.500000\n",
       "2020-01-07  70.800003\n",
       "2020-01-08  65.709999"
      ]
     },
     "execution_count": 9,
     "metadata": {},
     "output_type": "execute_result"
    }
   ],
   "source": [
    "#Keep Brent only Adj Close\n",
    "BrentPrice=pd.DataFrame(BrentPrice,columns=['Adj Close'])\n",
    "BrentPrice.info()\n",
    "BrentPrice.head()"
   ]
  },
  {
   "cell_type": "code",
   "execution_count": 10,
   "metadata": {},
   "outputs": [
    {
     "data": {
      "text/html": [
       "<div>\n",
       "<style scoped>\n",
       "    .dataframe tbody tr th:only-of-type {\n",
       "        vertical-align: middle;\n",
       "    }\n",
       "\n",
       "    .dataframe tbody tr th {\n",
       "        vertical-align: top;\n",
       "    }\n",
       "\n",
       "    .dataframe thead th {\n",
       "        text-align: right;\n",
       "    }\n",
       "</style>\n",
       "<table border=\"1\" class=\"dataframe\">\n",
       "  <thead>\n",
       "    <tr style=\"text-align: right;\">\n",
       "      <th></th>\n",
       "      <th>Brent</th>\n",
       "      <th>WTI</th>\n",
       "    </tr>\n",
       "  </thead>\n",
       "  <tbody>\n",
       "    <tr>\n",
       "      <td>2020-01-03</td>\n",
       "      <td>68.660004</td>\n",
       "      <td>63.05</td>\n",
       "    </tr>\n",
       "    <tr>\n",
       "      <td>2020-01-06</td>\n",
       "      <td>68.500000</td>\n",
       "      <td>63.27</td>\n",
       "    </tr>\n",
       "    <tr>\n",
       "      <td>2020-01-07</td>\n",
       "      <td>70.800003</td>\n",
       "      <td>62.70</td>\n",
       "    </tr>\n",
       "    <tr>\n",
       "      <td>2020-01-08</td>\n",
       "      <td>65.709999</td>\n",
       "      <td>59.61</td>\n",
       "    </tr>\n",
       "    <tr>\n",
       "      <td>2020-01-09</td>\n",
       "      <td>65.309998</td>\n",
       "      <td>59.56</td>\n",
       "    </tr>\n",
       "  </tbody>\n",
       "</table>\n",
       "</div>"
      ],
      "text/plain": [
       "                Brent    WTI\n",
       "2020-01-03  68.660004  63.05\n",
       "2020-01-06  68.500000  63.27\n",
       "2020-01-07  70.800003  62.70\n",
       "2020-01-08  65.709999  59.61\n",
       "2020-01-09  65.309998  59.56"
      ]
     },
     "execution_count": 10,
     "metadata": {},
     "output_type": "execute_result"
    }
   ],
   "source": [
    "#Merge WTI and Brent\n",
    "CrudeOil=BrentPrice.merge(oneyear_WTIprice,left_index=True,right_index=True)\n",
    "CrudeOil.rename(columns={'Adj Close': 'Brent', 'Price': 'WTI'}, inplace=True)\n",
    "CrudeOil.head()"
   ]
  },
  {
   "cell_type": "code",
   "execution_count": 11,
   "metadata": {},
   "outputs": [],
   "source": [
    "#drop WTI =-37, 2020-04-20\n",
    "CrudeOil.loc[\"2020-04-20\"]=[np.NaN,np.NaN]"
   ]
  },
  {
   "cell_type": "code",
   "execution_count": 12,
   "metadata": {},
   "outputs": [
    {
     "data": {
      "image/png": "[encoded data removed]",
      "text/plain": [
       "<Figure size 720x576 with 1 Axes>"
      ]
     },
     "metadata": {
      "needs_background": "light"
     },
     "output_type": "display_data"
    }
   ],
   "source": [
    "plt.figure(figsize=(10, 8))\n",
    "plt.plot(CrudeOil.index,CrudeOil['WTI'],'b-',label = 'WTI')\n",
    "plt.plot(CrudeOil.index,CrudeOil['Brent'],'r-',label = 'Brent')\n",
    "plt.xlabel('Date'); plt.ylabel('Dollars per Barrel($)'); plt.title('Price of WTI and Brent')\n",
    "plt.legend();"
   ]
  },
  {
   "cell_type": "code",
   "execution_count": 13,
   "metadata": {},
   "outputs": [
    {
     "data": {
      "text/html": [
       "<div>\n",
       "<style scoped>\n",
       "    .dataframe tbody tr th:only-of-type {\n",
       "        vertical-align: middle;\n",
       "    }\n",
       "\n",
       "    .dataframe tbody tr th {\n",
       "        vertical-align: top;\n",
       "    }\n",
       "\n",
       "    .dataframe thead th {\n",
       "        text-align: right;\n",
       "    }\n",
       "</style>\n",
       "<table border=\"1\" class=\"dataframe\">\n",
       "  <thead>\n",
       "    <tr style=\"text-align: right;\">\n",
       "      <th></th>\n",
       "      <th>Brent</th>\n",
       "      <th>WTI</th>\n",
       "      <th>Diff</th>\n",
       "    </tr>\n",
       "  </thead>\n",
       "  <tbody>\n",
       "    <tr>\n",
       "      <td>2020-01-03</td>\n",
       "      <td>68.660004</td>\n",
       "      <td>63.05</td>\n",
       "      <td>5.610004</td>\n",
       "    </tr>\n",
       "    <tr>\n",
       "      <td>2020-01-06</td>\n",
       "      <td>68.500000</td>\n",
       "      <td>63.27</td>\n",
       "      <td>5.230000</td>\n",
       "    </tr>\n",
       "    <tr>\n",
       "      <td>2020-01-07</td>\n",
       "      <td>70.800003</td>\n",
       "      <td>62.70</td>\n",
       "      <td>8.100003</td>\n",
       "    </tr>\n",
       "    <tr>\n",
       "      <td>2020-01-08</td>\n",
       "      <td>65.709999</td>\n",
       "      <td>59.61</td>\n",
       "      <td>6.099999</td>\n",
       "    </tr>\n",
       "    <tr>\n",
       "      <td>2020-01-09</td>\n",
       "      <td>65.309998</td>\n",
       "      <td>59.56</td>\n",
       "      <td>5.749998</td>\n",
       "    </tr>\n",
       "  </tbody>\n",
       "</table>\n",
       "</div>"
      ],
      "text/plain": [
       "                Brent    WTI      Diff\n",
       "2020-01-03  68.660004  63.05  5.610004\n",
       "2020-01-06  68.500000  63.27  5.230000\n",
       "2020-01-07  70.800003  62.70  8.100003\n",
       "2020-01-08  65.709999  59.61  6.099999\n",
       "2020-01-09  65.309998  59.56  5.749998"
      ]
     },
     "execution_count": 13,
     "metadata": {},
     "output_type": "execute_result"
    }
   ],
   "source": [
    "#Difference btw WTI and Brent\n",
    "CrudeOil['Diff'] = CrudeOil.Brent - CrudeOil.WTI\n",
    "CrudeOil.head()"
   ]
  },
  {
   "cell_type": "code",
   "execution_count": 14,
   "metadata": {},
   "outputs": [
    {
     "data": {
      "image/png": "[encoded data removed]",
      "text/plain": [
       "<Figure size 432x288 with 1 Axes>"
      ]
     },
     "metadata": {
      "needs_background": "light"
     },
     "output_type": "display_data"
    }
   ],
   "source": [
    "#Graph the diff\n",
    "plt.plot(CrudeOil.index,CrudeOil['Diff'],'g')\n",
    "plt.title('Brent-WTI Price Difference')\n",
    "plt.ylabel('Dollars per Barrel($)');\n",
    "plt.show()"
   ]
  },
  {
   "cell_type": "code",
   "execution_count": 15,
   "metadata": {},
   "outputs": [
    {
     "name": "stdout",
     "output_type": "stream",
     "text": [
      "<class 'pandas.core.frame.DataFrame'>\n",
      "DatetimeIndex: 253 entries, 2019-07-11 to 2020-07-10\n",
      "Data columns (total 6 columns):\n",
      "Open         253 non-null float64\n",
      "High         253 non-null float64\n",
      "Low          253 non-null float64\n",
      "Close        253 non-null float64\n",
      "Adj Close    253 non-null float64\n",
      "Volume       253 non-null int64\n",
      "dtypes: float64(5), int64(1)\n",
      "memory usage: 13.8 KB\n"
     ]
    }
   ],
   "source": [
    "# Volatility changes indicated by OVX\n",
    "OVX=pd.read_csv(\"OVX.csv\",parse_dates=[\"Date\"],index_col=\"Date\")\n",
    "OVX.info()"
   ]
  },
  {
   "cell_type": "code",
   "execution_count": 16,
   "metadata": {},
   "outputs": [
    {
     "data": {
      "image/png": "[encoded data removed]",
      "text/plain": [
       "<Figure size 432x288 with 1 Axes>"
      ]
     },
     "metadata": {
      "needs_background": "light"
     },
     "output_type": "display_data"
    }
   ],
   "source": [
    "#Plot OVX Change\n",
    "plt.plot(OVX.index,OVX['Adj Close'],'y')\n",
    "plt.title('OVX - Volatility Change')\n",
    "plt.show()"
   ]
  },
  {
   "cell_type": "code",
   "execution_count": 17,
   "metadata": {},
   "outputs": [
    {
     "name": "stdout",
     "output_type": "stream",
     "text": [
      "<class 'pandas.core.frame.DataFrame'>\n",
      "DatetimeIndex: 1954 entries, 2020-07-03 to 1983-01-07\n",
      "Data columns (total 1 columns):\n",
      "Thousand Barrels per Day    1954 non-null int64\n",
      "dtypes: int64(1)\n",
      "memory usage: 30.5 KB\n"
     ]
    }
   ],
   "source": [
    "#Production Change with Simple Moving Average\n",
    "Production=pd.read_csv(\"Production_of_Crude_Oil.csv\",skiprows=4,parse_dates=[\"Week of\"],index_col=\"Week of\")\n",
    "Production.columns=['Thousand Barrels per Day']\n",
    "Production.info()"
   ]
  },
  {
   "cell_type": "code",
   "execution_count": 18,
   "metadata": {},
   "outputs": [
    {
     "name": "stdout",
     "output_type": "stream",
     "text": [
      "<class 'pandas.core.frame.DataFrame'>\n",
      "DatetimeIndex: 157 entries, 2020-07-03 to 2017-07-07\n",
      "Data columns (total 1 columns):\n",
      "Thousand Barrels per Day    157 non-null int64\n",
      "dtypes: int64(1)\n",
      "memory usage: 2.5 KB\n"
     ]
    },
    {
     "data": {
      "text/html": [
       "<div>\n",
       "<style scoped>\n",
       "    .dataframe tbody tr th:only-of-type {\n",
       "        vertical-align: middle;\n",
       "    }\n",
       "\n",
       "    .dataframe tbody tr th {\n",
       "        vertical-align: top;\n",
       "    }\n",
       "\n",
       "    .dataframe thead th {\n",
       "        text-align: right;\n",
       "    }\n",
       "</style>\n",
       "<table border=\"1\" class=\"dataframe\">\n",
       "  <thead>\n",
       "    <tr style=\"text-align: right;\">\n",
       "      <th></th>\n",
       "      <th>Thousand Barrels per Day</th>\n",
       "    </tr>\n",
       "    <tr>\n",
       "      <th>Week of</th>\n",
       "      <th></th>\n",
       "    </tr>\n",
       "  </thead>\n",
       "  <tbody>\n",
       "    <tr>\n",
       "      <td>2017-07-07</td>\n",
       "      <td>9397</td>\n",
       "    </tr>\n",
       "    <tr>\n",
       "      <td>2017-07-14</td>\n",
       "      <td>9429</td>\n",
       "    </tr>\n",
       "    <tr>\n",
       "      <td>2017-07-21</td>\n",
       "      <td>9410</td>\n",
       "    </tr>\n",
       "    <tr>\n",
       "      <td>2017-07-28</td>\n",
       "      <td>9430</td>\n",
       "    </tr>\n",
       "    <tr>\n",
       "      <td>2017-08-04</td>\n",
       "      <td>9423</td>\n",
       "    </tr>\n",
       "    <tr>\n",
       "      <td>...</td>\n",
       "      <td>...</td>\n",
       "    </tr>\n",
       "    <tr>\n",
       "      <td>2020-06-05</td>\n",
       "      <td>11100</td>\n",
       "    </tr>\n",
       "    <tr>\n",
       "      <td>2020-06-12</td>\n",
       "      <td>10500</td>\n",
       "    </tr>\n",
       "    <tr>\n",
       "      <td>2020-06-19</td>\n",
       "      <td>11000</td>\n",
       "    </tr>\n",
       "    <tr>\n",
       "      <td>2020-06-26</td>\n",
       "      <td>11000</td>\n",
       "    </tr>\n",
       "    <tr>\n",
       "      <td>2020-07-03</td>\n",
       "      <td>11000</td>\n",
       "    </tr>\n",
       "  </tbody>\n",
       "</table>\n",
       "<p>157 rows × 1 columns</p>\n",
       "</div>"
      ],
      "text/plain": [
       "            Thousand Barrels per Day\n",
       "Week of                             \n",
       "2017-07-07                      9397\n",
       "2017-07-14                      9429\n",
       "2017-07-21                      9410\n",
       "2017-07-28                      9430\n",
       "2017-08-04                      9423\n",
       "...                              ...\n",
       "2020-06-05                     11100\n",
       "2020-06-12                     10500\n",
       "2020-06-19                     11000\n",
       "2020-06-26                     11000\n",
       "2020-07-03                     11000\n",
       "\n",
       "[157 rows x 1 columns]"
      ]
     },
     "execution_count": 18,
     "metadata": {},
     "output_type": "execute_result"
    }
   ],
   "source": [
    "threeyear_Production=Production[:\"2017-07-07\"]\n",
    "threeyear_Production.info()\n",
    "threeyear_Production.sort_index()"
   ]
  },
  {
   "cell_type": "code",
   "execution_count": 19,
   "metadata": {},
   "outputs": [
    {
     "name": "stderr",
     "output_type": "stream",
     "text": [
      "/Users/xinranlong/opt/anaconda3/lib/python3.7/site-packages/ipykernel_launcher.py:2: SettingWithCopyWarning: \n",
      "A value is trying to be set on a copy of a slice from a DataFrame.\n",
      "Try using .loc[row_indexer,col_indexer] = value instead\n",
      "\n",
      "See the caveats in the documentation: http://pandas.pydata.org/pandas-docs/stable/user_guide/indexing.html#returning-a-view-versus-a-copy\n",
      "  \n"
     ]
    },
    {
     "data": {
      "text/html": [
       "<div>\n",
       "<style scoped>\n",
       "    .dataframe tbody tr th:only-of-type {\n",
       "        vertical-align: middle;\n",
       "    }\n",
       "\n",
       "    .dataframe tbody tr th {\n",
       "        vertical-align: top;\n",
       "    }\n",
       "\n",
       "    .dataframe thead th {\n",
       "        text-align: right;\n",
       "    }\n",
       "</style>\n",
       "<table border=\"1\" class=\"dataframe\">\n",
       "  <thead>\n",
       "    <tr style=\"text-align: right;\">\n",
       "      <th></th>\n",
       "      <th>Thousand Barrels per Day</th>\n",
       "      <th>pandas_SMA_3</th>\n",
       "    </tr>\n",
       "    <tr>\n",
       "      <th>Week of</th>\n",
       "      <th></th>\n",
       "      <th></th>\n",
       "    </tr>\n",
       "  </thead>\n",
       "  <tbody>\n",
       "    <tr>\n",
       "      <td>2020-07-03</td>\n",
       "      <td>11000</td>\n",
       "      <td>NaN</td>\n",
       "    </tr>\n",
       "    <tr>\n",
       "      <td>2020-06-26</td>\n",
       "      <td>11000</td>\n",
       "      <td>NaN</td>\n",
       "    </tr>\n",
       "    <tr>\n",
       "      <td>2020-06-19</td>\n",
       "      <td>11000</td>\n",
       "      <td>11000.000000</td>\n",
       "    </tr>\n",
       "    <tr>\n",
       "      <td>2020-06-12</td>\n",
       "      <td>10500</td>\n",
       "      <td>10833.333333</td>\n",
       "    </tr>\n",
       "    <tr>\n",
       "      <td>2020-06-05</td>\n",
       "      <td>11100</td>\n",
       "      <td>10866.666667</td>\n",
       "    </tr>\n",
       "  </tbody>\n",
       "</table>\n",
       "</div>"
      ],
      "text/plain": [
       "            Thousand Barrels per Day  pandas_SMA_3\n",
       "Week of                                           \n",
       "2020-07-03                     11000           NaN\n",
       "2020-06-26                     11000           NaN\n",
       "2020-06-19                     11000  11000.000000\n",
       "2020-06-12                     10500  10833.333333\n",
       "2020-06-05                     11100  10866.666667"
      ]
     },
     "execution_count": 19,
     "metadata": {},
     "output_type": "execute_result"
    }
   ],
   "source": [
    "#calulate moving average\n",
    "threeyear_Production['pandas_SMA_3'] = threeyear_Production.iloc[:,0].rolling(window=3).mean()\n",
    "threeyear_Production.head()"
   ]
  },
  {
   "cell_type": "code",
   "execution_count": 20,
   "metadata": {},
   "outputs": [
    {
     "data": {
      "text/plain": [
       "<matplotlib.legend.Legend at 0x1a2012a9d0>"
      ]
     },
     "execution_count": 20,
     "metadata": {},
     "output_type": "execute_result"
    },
    {
     "data": {
      "image/png": "[encoded data removed]",
      "text/plain": [
       "<Figure size 1080x720 with 1 Axes>"
      ]
     },
     "metadata": {
      "needs_background": "light"
     },
     "output_type": "display_data"
    }
   ],
   "source": [
    "#plot moving average\n",
    "plt.figure(figsize=[15,10])\n",
    "plt.grid(True)\n",
    "plt.plot(threeyear_Production['Thousand Barrels per Day'],label='data')\n",
    "plt.plot(threeyear_Production['pandas_SMA_3'],label='SMA 3 Weeks')\n",
    "plt.xlabel('Week of')\n",
    "plt.ylabel('Thousand Barrels per Day')\n",
    "plt.title('Weekly U.S. Field Production of Crude Oil')\n",
    "plt.legend(loc=2)"
   ]
  },
  {
   "cell_type": "code",
   "execution_count": 21,
   "metadata": {},
   "outputs": [],
   "source": [
    "#Imports and Export\n",
    "Imports=pd.read_csv(\"Imports_of_Crude_Oil.csv\",skiprows=4,parse_dates=[\"Week of\"],index_col=\"Week of\")\n",
    "Imports.columns=['Imports']\n",
    "Exports=pd.read_csv(\"Exports_of_Crude_Oil.csv\",skiprows=4,parse_dates=[\"Week of\"],index_col=\"Week of\")\n",
    "Exports.columns=['Exports']"
   ]
  },
  {
   "cell_type": "code",
   "execution_count": 22,
   "metadata": {},
   "outputs": [
    {
     "data": {
      "text/html": [
       "<div>\n",
       "<style scoped>\n",
       "    .dataframe tbody tr th:only-of-type {\n",
       "        vertical-align: middle;\n",
       "    }\n",
       "\n",
       "    .dataframe tbody tr th {\n",
       "        vertical-align: top;\n",
       "    }\n",
       "\n",
       "    .dataframe thead th {\n",
       "        text-align: right;\n",
       "    }\n",
       "</style>\n",
       "<table border=\"1\" class=\"dataframe\">\n",
       "  <thead>\n",
       "    <tr style=\"text-align: right;\">\n",
       "      <th></th>\n",
       "      <th>Imports</th>\n",
       "      <th>Exports</th>\n",
       "      <th>Net Import</th>\n",
       "    </tr>\n",
       "    <tr>\n",
       "      <th>Week of</th>\n",
       "      <th></th>\n",
       "      <th></th>\n",
       "      <th></th>\n",
       "    </tr>\n",
       "  </thead>\n",
       "  <tbody>\n",
       "    <tr>\n",
       "      <td>2020-07-03</td>\n",
       "      <td>7394</td>\n",
       "      <td>2387</td>\n",
       "      <td>5007</td>\n",
       "    </tr>\n",
       "    <tr>\n",
       "      <td>2020-06-26</td>\n",
       "      <td>5969</td>\n",
       "      <td>3092</td>\n",
       "      <td>2877</td>\n",
       "    </tr>\n",
       "    <tr>\n",
       "      <td>2020-06-19</td>\n",
       "      <td>6540</td>\n",
       "      <td>3157</td>\n",
       "      <td>3383</td>\n",
       "    </tr>\n",
       "    <tr>\n",
       "      <td>2020-06-12</td>\n",
       "      <td>6642</td>\n",
       "      <td>2462</td>\n",
       "      <td>4180</td>\n",
       "    </tr>\n",
       "    <tr>\n",
       "      <td>2020-06-05</td>\n",
       "      <td>6864</td>\n",
       "      <td>2439</td>\n",
       "      <td>4425</td>\n",
       "    </tr>\n",
       "  </tbody>\n",
       "</table>\n",
       "</div>"
      ],
      "text/plain": [
       "            Imports  Exports  Net Import\n",
       "Week of                                 \n",
       "2020-07-03     7394     2387        5007\n",
       "2020-06-26     5969     3092        2877\n",
       "2020-06-19     6540     3157        3383\n",
       "2020-06-12     6642     2462        4180\n",
       "2020-06-05     6864     2439        4425"
      ]
     },
     "execution_count": 22,
     "metadata": {},
     "output_type": "execute_result"
    }
   ],
   "source": [
    "#Merge imports and exports,calculate net import\n",
    "ImportExport=Imports.merge(Exports,left_index=True,right_index=True)\n",
    "ImportExport['Net Import'] = ImportExport.Imports - ImportExport.Exports\n",
    "ImportExport.head()"
   ]
  },
  {
   "cell_type": "code",
   "execution_count": 23,
   "metadata": {},
   "outputs": [
    {
     "data": {
      "image/png": "[encoded data removed]",
      "text/plain": [
       "<Figure size 720x576 with 1 Axes>"
      ]
     },
     "metadata": {
      "needs_background": "light"
     },
     "output_type": "display_data"
    }
   ],
   "source": [
    "oneyear_ImportExport=ImportExport[:\"2019-07-05\"]\n",
    "oneyear_ImportExport.sort_index()\n",
    "plt.figure(figsize=(10, 8))\n",
    "plt.plot(oneyear_ImportExport.index,oneyear_ImportExport['Imports'],'b-',label = 'Imports')\n",
    "plt.plot(oneyear_ImportExport.index,oneyear_ImportExport['Exports'],'r-',label = 'Exports')\n",
    "plt.xlabel('Week of'); plt.ylabel('Thousand Barrels per Day'); plt.title('Imports and Exports')\n",
    "plt.legend();"
   ]
  },
  {
   "cell_type": "code",
   "execution_count": 24,
   "metadata": {},
   "outputs": [],
   "source": [
    "#Demand change indicated by product supplied\n",
    "Demand=pd.read_csv(\"Demand_of_Petroleum_Products.csv\",skiprows=4,parse_dates=[\"Week of\"],index_col=\"Week of\")\n",
    "Demand.columns=['Thousand Barrels per Day']"
   ]
  },
  {
   "cell_type": "code",
   "execution_count": 25,
   "metadata": {},
   "outputs": [
    {
     "data": {
      "text/plain": [
       "Text(0.5, 1.0, 'Demand by Product Supplied')"
      ]
     },
     "execution_count": 25,
     "metadata": {},
     "output_type": "execute_result"
    },
    {
     "data": {
      "image/png": "[encoded data removed]",
      "text/plain": [
       "<Figure size 432x288 with 1 Axes>"
      ]
     },
     "metadata": {
      "needs_background": "light"
     },
     "output_type": "display_data"
    }
   ],
   "source": [
    "oneyear_Demand=Demand[:\"2019-07-05\"]\n",
    "oneyear_Demand.sort_index()\n",
    "plt.plot(oneyear_Demand)\n",
    "plt.xlabel('Week of'); plt.ylabel('Thousand Barrels per Day'); plt.title('Demand by Product Supplied')"
   ]
  },
  {
   "cell_type": "code",
   "execution_count": 26,
   "metadata": {},
   "outputs": [
    {
     "data": {
      "text/html": [
       "<div>\n",
       "<style scoped>\n",
       "    .dataframe tbody tr th:only-of-type {\n",
       "        vertical-align: middle;\n",
       "    }\n",
       "\n",
       "    .dataframe tbody tr th {\n",
       "        vertical-align: top;\n",
       "    }\n",
       "\n",
       "    .dataframe thead th {\n",
       "        text-align: right;\n",
       "    }\n",
       "</style>\n",
       "<table border=\"1\" class=\"dataframe\">\n",
       "  <thead>\n",
       "    <tr style=\"text-align: right;\">\n",
       "      <th></th>\n",
       "      <th>positive</th>\n",
       "      <th>death</th>\n",
       "    </tr>\n",
       "    <tr>\n",
       "      <th>date</th>\n",
       "      <th></th>\n",
       "      <th></th>\n",
       "    </tr>\n",
       "  </thead>\n",
       "  <tbody>\n",
       "    <tr>\n",
       "      <td>2020-01-22</td>\n",
       "      <td>2</td>\n",
       "      <td>NaN</td>\n",
       "    </tr>\n",
       "    <tr>\n",
       "      <td>2020-01-23</td>\n",
       "      <td>2</td>\n",
       "      <td>NaN</td>\n",
       "    </tr>\n",
       "    <tr>\n",
       "      <td>2020-01-24</td>\n",
       "      <td>2</td>\n",
       "      <td>NaN</td>\n",
       "    </tr>\n",
       "    <tr>\n",
       "      <td>2020-01-25</td>\n",
       "      <td>2</td>\n",
       "      <td>NaN</td>\n",
       "    </tr>\n",
       "    <tr>\n",
       "      <td>2020-01-26</td>\n",
       "      <td>2</td>\n",
       "      <td>NaN</td>\n",
       "    </tr>\n",
       "  </tbody>\n",
       "</table>\n",
       "</div>"
      ],
      "text/plain": [
       "            positive  death\n",
       "date                       \n",
       "2020-01-22         2    NaN\n",
       "2020-01-23         2    NaN\n",
       "2020-01-24         2    NaN\n",
       "2020-01-25         2    NaN\n",
       "2020-01-26         2    NaN"
      ]
     },
     "execution_count": 26,
     "metadata": {},
     "output_type": "execute_result"
    }
   ],
   "source": [
    "#Cases data\n",
    "Cases=pd.read_csv(\"daily.csv\",parse_dates=[\"date\"],index_col=\"date\")\n",
    "Cases=Cases[['positive','death']]\n",
    "Cases=Cases.sort_index()\n",
    "Cases.head()"
   ]
  },
  {
   "cell_type": "code",
   "execution_count": 27,
   "metadata": {},
   "outputs": [],
   "source": [
    "from sklearn import datasets, linear_model\n",
    "from sklearn.metrics import mean_squared_error, r2_score\n",
    "import statsmodels.api as sm"
   ]
  },
  {
   "cell_type": "code",
   "execution_count": 28,
   "metadata": {},
   "outputs": [],
   "source": [
    "#merge cases and price dataset\n",
    "CasesPrice=Cases.merge(oneyear_WTIprice,left_index=True,right_index=True)\n",
    "CasesPrice=CasesPrice.sort_index()\n",
    "CasesPrice.head()\n",
    "#drop -37\n",
    "CasesPrice.loc[\"2020-04-20\"]=[np.NaN,np.NaN,np.NaN]\n",
    "CasesPrice.dropna(how='all',inplace=True)"
   ]
  },
  {
   "cell_type": "code",
   "execution_count": 29,
   "metadata": {},
   "outputs": [
    {
     "name": "stderr",
     "output_type": "stream",
     "text": [
      "/Users/xinranlong/opt/anaconda3/lib/python3.7/site-packages/numpy/core/fromnumeric.py:2495: FutureWarning: Method .ptp is deprecated and will be removed in a future version. Use numpy.ptp instead.\n",
      "  return ptp(axis=axis, out=out, **kwargs)\n"
     ]
    }
   ],
   "source": [
    "#linear regression model\n",
    "X = sm.add_constant(CasesPrice['positive'])\n",
    "model = sm.OLS(CasesPrice['Price'],X)\n",
    "results = model.fit()"
   ]
  },
  {
   "cell_type": "code",
   "execution_count": 30,
   "metadata": {},
   "outputs": [
    {
     "data": {
      "text/plain": [
       "Text(0.5, 1.0, 'OLS Linear Regression')"
      ]
     },
     "execution_count": 30,
     "metadata": {},
     "output_type": "execute_result"
    },
    {
     "data": {
      "image/png": "[encoded data removed]",
      "text/plain": [
       "<Figure size 432x288 with 1 Axes>"
      ]
     },
     "metadata": {
      "needs_background": "light"
     },
     "output_type": "display_data"
    }
   ],
   "source": [
    "plt.scatter(CasesPrice['positive'],CasesPrice['Price'],alpha=0.3)\n",
    "y_predict = results.params[0] + results.params[1]*CasesPrice['positive']\n",
    "plt.plot(CasesPrice['positive'],y_predict, linewidth=3)\n",
    "plt.xlabel('Covid-19 Positive Cases')\n",
    "plt.ylabel('WTI Price')\n",
    "plt.title('OLS Linear Regression')"
   ]
  },
  {
   "cell_type": "code",
   "execution_count": 31,
   "metadata": {},
   "outputs": [
    {
     "name": "stdout",
     "output_type": "stream",
     "text": [
      "                            OLS Regression Results                            \n",
      "==============================================================================\n",
      "Dep. Variable:                  Price   R-squared:                       0.021\n",
      "Model:                            OLS   Adj. R-squared:                  0.012\n",
      "Method:                 Least Squares   F-statistic:                     2.415\n",
      "Date:                Wed, 22 Jul 2020   Prob (F-statistic):              0.123\n",
      "Time:                        15:32:37   Log-Likelihood:                -448.93\n",
      "No. Observations:                 115   AIC:                             901.9\n",
      "Df Residuals:                     113   BIC:                             907.3\n",
      "Df Model:                           1                                         \n",
      "Covariance Type:            nonrobust                                         \n",
      "==============================================================================\n",
      "                 coef    std err          t      P>|t|      [0.025      0.975]\n",
      "------------------------------------------------------------------------------\n",
      "const         36.6697      1.563     23.459      0.000      33.573      39.767\n",
      "positive   -1.904e-06   1.22e-06     -1.554      0.123   -4.33e-06    5.23e-07\n",
      "==============================================================================\n",
      "Omnibus:                       53.555   Durbin-Watson:                   0.033\n",
      "Prob(Omnibus):                  0.000   Jarque-Bera (JB):                8.160\n",
      "Skew:                          -0.189   Prob(JB):                       0.0169\n",
      "Kurtosis:                       1.751   Cond. No.                     1.77e+06\n",
      "==============================================================================\n",
      "\n",
      "Warnings:\n",
      "[1] Standard Errors assume that the covariance matrix of the errors is correctly specified.\n",
      "[2] The condition number is large, 1.77e+06. This might indicate that there are\n",
      "strong multicollinearity or other numerical problems.\n"
     ]
    }
   ],
   "source": [
    "print(results.summary())\n",
    "#https://towardsdatascience.com/how-to-model-time-series-data-with-linear-regression-cd94d1d901c0"
   ]
  },
  {
   "cell_type": "code",
   "execution_count": 41,
   "metadata": {},
   "outputs": [
    {
     "name": "stdout",
     "output_type": "stream",
     "text": [
      "<class 'pandas.core.frame.DataFrame'>\n",
      "RangeIndex: 244 entries, 0 to 243\n",
      "Data columns (total 43 columns):\n",
      "Date                                          244 non-null object\n",
      "U.S.()                                        244 non-null int64\n",
      "East Coast (PADD 1)()                         244 non-null int64\n",
      "Florida()                                     244 non-null int64\n",
      "New York()                                    244 non-null int64\n",
      "Pennsylvania()                                244 non-null int64\n",
      "Virginia()                                    244 non-null int64\n",
      "West Virginia()                               244 non-null int64\n",
      "Midwest (PADD 2)()                            244 non-null int64\n",
      "Illinois()                                    244 non-null int64\n",
      "Indiana()                                     244 non-null int64\n",
      "Kansas()                                      244 non-null int64\n",
      "Kentucky()                                    244 non-null int64\n",
      "Michigan()                                    244 non-null int64\n",
      "Missouri()                                    244 non-null int64\n",
      "Nebraska()                                    244 non-null int64\n",
      "North Dakota()                                244 non-null int64\n",
      "Ohio()                                        244 non-null int64\n",
      "Oklahoma()                                    244 non-null int64\n",
      "South Dakota()                                244 non-null int64\n",
      "Tennessee()                                   244 non-null int64\n",
      "Gulf Coast (PADD 3)()                         244 non-null int64\n",
      "Alabama()                                     244 non-null int64\n",
      "Arkansas()                                    244 non-null int64\n",
      "Louisiana()                                   244 non-null int64\n",
      "Mississippi()                                 244 non-null int64\n",
      "New Mexico()                                  244 non-null int64\n",
      "Texas()                                       244 non-null int64\n",
      "Federal Offshore--Gulf of Mexico()            244 non-null int64\n",
      "Rocky Mountain (PADD 4)()                     244 non-null int64\n",
      "Colorado()                                    244 non-null int64\n",
      "Idaho()                                       160 non-null float64\n",
      "Montana()                                     244 non-null int64\n",
      "Utah()                                        244 non-null int64\n",
      "Wyoming()                                     244 non-null int64\n",
      "West Coast (PADD 5)()                         244 non-null int64\n",
      "Alaska()                                      244 non-null int64\n",
      "Alaska South()                                244 non-null int64\n",
      "Alaska North Slope Crude Oil Production ()    244 non-null int64\n",
      "Arizona()                                     244 non-null int64\n",
      "California()                                  244 non-null int64\n",
      "Nevada()                                      244 non-null int64\n",
      "Federal Offshore PADD 5()                     244 non-null int64\n",
      "dtypes: float64(1), int64(41), object(1)\n",
      "memory usage: 82.1+ KB\n"
     ]
    }
   ],
   "source": [
    "#Crude Oil Production by State\n",
    "#StateProduction=pd.read_csv(\"Production_State.csv\",skiprows=2,parse_dates=[\"Date\"],index_col=\"Date\")\n",
    "StateProduction=pd.read_csv(\"Production_State.csv\",skiprows=2,parse_dates=[\"Date\"])\n",
    "StateProduction.columns = StateProduction.columns.str.replace(\"Field Production of Crude Oil\", \"\")\n",
    "StateProduction.columns = StateProduction.columns.str.replace(\"(Thousand Barrels)\", \"\")\n",
    "StateProduction.columns = StateProduction.columns.str.replace(\"  ()\", \"\")\n",
    "StateProduction.info()"
   ]
  },
  {
   "cell_type": "code",
   "execution_count": 42,
   "metadata": {},
   "outputs": [
    {
     "data": {
      "text/html": [
       "<div>\n",
       "<style scoped>\n",
       "    .dataframe tbody tr th:only-of-type {\n",
       "        vertical-align: middle;\n",
       "    }\n",
       "\n",
       "    .dataframe tbody tr th {\n",
       "        vertical-align: top;\n",
       "    }\n",
       "\n",
       "    .dataframe thead th {\n",
       "        text-align: right;\n",
       "    }\n",
       "</style>\n",
       "<table border=\"1\" class=\"dataframe\">\n",
       "  <thead>\n",
       "    <tr style=\"text-align: right;\">\n",
       "      <th></th>\n",
       "      <th>Date</th>\n",
       "      <th>U.S.()</th>\n",
       "      <th>East Coast (PADD 1)()</th>\n",
       "      <th>Florida()</th>\n",
       "      <th>New York()</th>\n",
       "      <th>Pennsylvania()</th>\n",
       "      <th>Virginia()</th>\n",
       "      <th>West Virginia()</th>\n",
       "      <th>Midwest (PADD 2)()</th>\n",
       "      <th>Illinois()</th>\n",
       "      <th>...</th>\n",
       "      <th>Utah()</th>\n",
       "      <th>Wyoming()</th>\n",
       "      <th>West Coast (PADD 5)()</th>\n",
       "      <th>Alaska()</th>\n",
       "      <th>Alaska South()</th>\n",
       "      <th>Alaska North Slope Crude Oil Production ()</th>\n",
       "      <th>Arizona()</th>\n",
       "      <th>California()</th>\n",
       "      <th>Nevada()</th>\n",
       "      <th>Federal Offshore PADD 5()</th>\n",
       "    </tr>\n",
       "  </thead>\n",
       "  <tbody>\n",
       "    <tr>\n",
       "      <td>0</td>\n",
       "      <td>Jan-00</td>\n",
       "      <td>179316</td>\n",
       "      <td>606</td>\n",
       "      <td>360</td>\n",
       "      <td>16</td>\n",
       "      <td>111</td>\n",
       "      <td>0</td>\n",
       "      <td>118</td>\n",
       "      <td>14341</td>\n",
       "      <td>997</td>\n",
       "      <td>...</td>\n",
       "      <td>1366</td>\n",
       "      <td>5185</td>\n",
       "      <td>57493</td>\n",
       "      <td>31751</td>\n",
       "      <td>935</td>\n",
       "      <td>30816</td>\n",
       "      <td>5</td>\n",
       "      <td>22784</td>\n",
       "      <td>56</td>\n",
       "      <td>2898</td>\n",
       "    </tr>\n",
       "    <tr>\n",
       "      <td>1</td>\n",
       "      <td>Feb-00</td>\n",
       "      <td>169703</td>\n",
       "      <td>564</td>\n",
       "      <td>349</td>\n",
       "      <td>19</td>\n",
       "      <td>108</td>\n",
       "      <td>0</td>\n",
       "      <td>88</td>\n",
       "      <td>13905</td>\n",
       "      <td>1027</td>\n",
       "      <td>...</td>\n",
       "      <td>1275</td>\n",
       "      <td>4872</td>\n",
       "      <td>54045</td>\n",
       "      <td>29906</td>\n",
       "      <td>885</td>\n",
       "      <td>29021</td>\n",
       "      <td>3</td>\n",
       "      <td>21332</td>\n",
       "      <td>53</td>\n",
       "      <td>2751</td>\n",
       "    </tr>\n",
       "    <tr>\n",
       "      <td>2</td>\n",
       "      <td>Mar-00</td>\n",
       "      <td>183464</td>\n",
       "      <td>662</td>\n",
       "      <td>373</td>\n",
       "      <td>19</td>\n",
       "      <td>145</td>\n",
       "      <td>1</td>\n",
       "      <td>124</td>\n",
       "      <td>15242</td>\n",
       "      <td>1025</td>\n",
       "      <td>...</td>\n",
       "      <td>1348</td>\n",
       "      <td>5201</td>\n",
       "      <td>57334</td>\n",
       "      <td>31395</td>\n",
       "      <td>823</td>\n",
       "      <td>30571</td>\n",
       "      <td>3</td>\n",
       "      <td>22865</td>\n",
       "      <td>55</td>\n",
       "      <td>3016</td>\n",
       "    </tr>\n",
       "    <tr>\n",
       "      <td>3</td>\n",
       "      <td>Apr-00</td>\n",
       "      <td>175625</td>\n",
       "      <td>624</td>\n",
       "      <td>385</td>\n",
       "      <td>16</td>\n",
       "      <td>108</td>\n",
       "      <td>1</td>\n",
       "      <td>114</td>\n",
       "      <td>14292</td>\n",
       "      <td>1030</td>\n",
       "      <td>...</td>\n",
       "      <td>1290</td>\n",
       "      <td>5001</td>\n",
       "      <td>55455</td>\n",
       "      <td>30241</td>\n",
       "      <td>893</td>\n",
       "      <td>29348</td>\n",
       "      <td>2</td>\n",
       "      <td>22234</td>\n",
       "      <td>52</td>\n",
       "      <td>2927</td>\n",
       "    </tr>\n",
       "    <tr>\n",
       "      <td>4</td>\n",
       "      <td>May-00</td>\n",
       "      <td>181242</td>\n",
       "      <td>692</td>\n",
       "      <td>411</td>\n",
       "      <td>17</td>\n",
       "      <td>130</td>\n",
       "      <td>1</td>\n",
       "      <td>133</td>\n",
       "      <td>14954</td>\n",
       "      <td>1035</td>\n",
       "      <td>...</td>\n",
       "      <td>1317</td>\n",
       "      <td>5197</td>\n",
       "      <td>56137</td>\n",
       "      <td>29934</td>\n",
       "      <td>909</td>\n",
       "      <td>29025</td>\n",
       "      <td>5</td>\n",
       "      <td>23086</td>\n",
       "      <td>52</td>\n",
       "      <td>3059</td>\n",
       "    </tr>\n",
       "  </tbody>\n",
       "</table>\n",
       "<p>5 rows × 43 columns</p>\n",
       "</div>"
      ],
      "text/plain": [
       "     Date  U.S.()  East Coast (PADD 1)()  Florida()  New York()  \\\n",
       "0  Jan-00  179316                    606        360          16   \n",
       "1  Feb-00  169703                    564        349          19   \n",
       "2  Mar-00  183464                    662        373          19   \n",
       "3  Apr-00  175625                    624        385          16   \n",
       "4  May-00  181242                    692        411          17   \n",
       "\n",
       "   Pennsylvania()  Virginia()  West Virginia()  Midwest (PADD 2)()  \\\n",
       "0             111           0              118               14341   \n",
       "1             108           0               88               13905   \n",
       "2             145           1              124               15242   \n",
       "3             108           1              114               14292   \n",
       "4             130           1              133               14954   \n",
       "\n",
       "   Illinois()  ...  Utah()  Wyoming()  West Coast (PADD 5)()  Alaska()  \\\n",
       "0         997  ...    1366       5185                  57493     31751   \n",
       "1        1027  ...    1275       4872                  54045     29906   \n",
       "2        1025  ...    1348       5201                  57334     31395   \n",
       "3        1030  ...    1290       5001                  55455     30241   \n",
       "4        1035  ...    1317       5197                  56137     29934   \n",
       "\n",
       "   Alaska South()  Alaska North Slope Crude Oil Production ()  Arizona()  \\\n",
       "0             935                                       30816          5   \n",
       "1             885                                       29021          3   \n",
       "2             823                                       30571          3   \n",
       "3             893                                       29348          2   \n",
       "4             909                                       29025          5   \n",
       "\n",
       "   California()  Nevada()  Federal Offshore PADD 5()  \n",
       "0         22784        56                       2898  \n",
       "1         21332        53                       2751  \n",
       "2         22865        55                       3016  \n",
       "3         22234        52                       2927  \n",
       "4         23086        52                       3059  \n",
       "\n",
       "[5 rows x 43 columns]"
      ]
     },
     "execution_count": 42,
     "metadata": {},
     "output_type": "execute_result"
    }
   ],
   "source": [
    "StateProduction.head()"
   ]
  },
  {
   "cell_type": "code",
   "execution_count": 55,
   "metadata": {},
   "outputs": [
    {
     "data": {
      "text/plain": [
       "Date                                          20-Apr\n",
       "U.S.()                                        361831\n",
       "East Coast (PADD 1)()                           1841\n",
       "Florida()                                        114\n",
       "New York()                                        18\n",
       "Pennsylvania()                                   433\n",
       "Virginia()                                         0\n",
       "West Virginia()                                 1275\n",
       "Midwest (PADD 2)()                             56670\n",
       "Illinois()                                       462\n",
       "Indiana()                                         92\n",
       "Kansas()                                        2266\n",
       "Kentucky()                                       190\n",
       "Michigan()                                       274\n",
       "Missouri()                                        11\n",
       "Nebraska()                                       102\n",
       "North Dakota()                                 36424\n",
       "Ohio()                                          1790\n",
       "Oklahoma()                                     14975\n",
       "South Dakota()                                    78\n",
       "Tennessee()                                        6\n",
       "Gulf Coast (PADD 3)()                         250737\n",
       "Alabama()                                        366\n",
       "Arkansas()                                       322\n",
       "Louisiana()                                     3037\n",
       "Mississippi()                                   1117\n",
       "New Mexico()                                   32451\n",
       "Texas()                                       156003\n",
       "Federal Offshore--Gulf of Mexico()             57440\n",
       "Rocky Mountain (PADD 4)()                      26219\n",
       "Colorado()                                     14801\n",
       "Idaho()                                            0\n",
       "Montana()                                       1604\n",
       "Utah()                                          2455\n",
       "Wyoming()                                       7359\n",
       "West Coast (PADD 5)()                          26364\n",
       "Alaska()                                       13881\n",
       "Alaska South()                                   416\n",
       "Alaska North Slope Crude Oil Production ()     13465\n",
       "Arizona()                                          1\n",
       "California()                                   12279\n",
       "Nevada()                                          20\n",
       "Federal Offshore PADD 5()                        183\n",
       "Name: 243, dtype: object"
      ]
     },
     "execution_count": 55,
     "metadata": {},
     "output_type": "execute_result"
    }
   ],
   "source": [
    "#latest 2020 April data\n",
    "AprilProduction=StateProduction.iloc[-1]\n",
    "AprilProduction"
   ]
  },
  {
   "cell_type": "code",
   "execution_count": null,
   "metadata": {},
   "outputs": [],
   "source": [
    "oneyear_StateProduction=StateProduction[231:]\n",
    "oneyear_StateProduction=oneyear_StateProduction.drop(columns=[\"U.S.()\",\"East Coast (PADD 1)()\",\"Midwest (PADD 2)()\",\"Gulf Coast (PADD 3)()\",\"Rocky Mountain (PADD 4)()\",\"West Coast (PADD 5)()\"])\n",
    "plt.figure(figsize=(10, 8))\n",
    "plt.plot(oneyear_StateProduction)\n",
    "plt.xlabel('Month of'); plt.ylabel('Thousand Barrels'); plt.title('Production by State')\n",
    "plt.legend();"
   ]
  },
  {
   "cell_type": "code",
   "execution_count": 107,
   "metadata": {
    "scrolled": true
   },
   "outputs": [
    {
     "data": {
      "text/html": [
       "<div>\n",
       "<style scoped>\n",
       "    .dataframe tbody tr th:only-of-type {\n",
       "        vertical-align: middle;\n",
       "    }\n",
       "\n",
       "    .dataframe tbody tr th {\n",
       "        vertical-align: top;\n",
       "    }\n",
       "\n",
       "    .dataframe thead th {\n",
       "        text-align: right;\n",
       "    }\n",
       "</style>\n",
       "<table border=\"1\" class=\"dataframe\">\n",
       "  <thead>\n",
       "    <tr style=\"text-align: right;\">\n",
       "      <th></th>\n",
       "      <th>Date</th>\n",
       "      <th>Texas()</th>\n",
       "      <th>Federal Offshore--Gulf of Mexico()</th>\n",
       "      <th>North Dakota()</th>\n",
       "    </tr>\n",
       "  </thead>\n",
       "  <tbody>\n",
       "    <tr>\n",
       "      <td>207</td>\n",
       "      <td>17-Apr</td>\n",
       "      <td>99595</td>\n",
       "      <td>49933</td>\n",
       "      <td>31208</td>\n",
       "    </tr>\n",
       "    <tr>\n",
       "      <td>208</td>\n",
       "      <td>17-May</td>\n",
       "      <td>105298</td>\n",
       "      <td>52233</td>\n",
       "      <td>31840</td>\n",
       "    </tr>\n",
       "    <tr>\n",
       "      <td>209</td>\n",
       "      <td>17-Jun</td>\n",
       "      <td>102763</td>\n",
       "      <td>48940</td>\n",
       "      <td>30693</td>\n",
       "    </tr>\n",
       "    <tr>\n",
       "      <td>210</td>\n",
       "      <td>17-Jul</td>\n",
       "      <td>106940</td>\n",
       "      <td>54461</td>\n",
       "      <td>32255</td>\n",
       "    </tr>\n",
       "    <tr>\n",
       "      <td>211</td>\n",
       "      <td>17-Aug</td>\n",
       "      <td>103967</td>\n",
       "      <td>53277</td>\n",
       "      <td>33437</td>\n",
       "    </tr>\n",
       "    <tr>\n",
       "      <td>212</td>\n",
       "      <td>17-Sep</td>\n",
       "      <td>106077</td>\n",
       "      <td>50801</td>\n",
       "      <td>32883</td>\n",
       "    </tr>\n",
       "    <tr>\n",
       "      <td>213</td>\n",
       "      <td>17-Oct</td>\n",
       "      <td>115887</td>\n",
       "      <td>45956</td>\n",
       "      <td>36309</td>\n",
       "    </tr>\n",
       "    <tr>\n",
       "      <td>214</td>\n",
       "      <td>17-Nov</td>\n",
       "      <td>115741</td>\n",
       "      <td>50943</td>\n",
       "      <td>35482</td>\n",
       "    </tr>\n",
       "    <tr>\n",
       "      <td>215</td>\n",
       "      <td>17-Dec</td>\n",
       "      <td>121005</td>\n",
       "      <td>48649</td>\n",
       "      <td>36085</td>\n",
       "    </tr>\n",
       "    <tr>\n",
       "      <td>216</td>\n",
       "      <td>18-Jan</td>\n",
       "      <td>120488</td>\n",
       "      <td>50767</td>\n",
       "      <td>36057</td>\n",
       "    </tr>\n",
       "    <tr>\n",
       "      <td>217</td>\n",
       "      <td>18-Feb</td>\n",
       "      <td>112244</td>\n",
       "      <td>47954</td>\n",
       "      <td>32501</td>\n",
       "    </tr>\n",
       "    <tr>\n",
       "      <td>218</td>\n",
       "      <td>18-Mar</td>\n",
       "      <td>129348</td>\n",
       "      <td>52846</td>\n",
       "      <td>35538</td>\n",
       "    </tr>\n",
       "    <tr>\n",
       "      <td>219</td>\n",
       "      <td>18-Apr</td>\n",
       "      <td>126677</td>\n",
       "      <td>48081</td>\n",
       "      <td>36290</td>\n",
       "    </tr>\n",
       "    <tr>\n",
       "      <td>220</td>\n",
       "      <td>18-May</td>\n",
       "      <td>130717</td>\n",
       "      <td>47628</td>\n",
       "      <td>38137</td>\n",
       "    </tr>\n",
       "    <tr>\n",
       "      <td>221</td>\n",
       "      <td>18-Jun</td>\n",
       "      <td>130759</td>\n",
       "      <td>49913</td>\n",
       "      <td>36479</td>\n",
       "    </tr>\n",
       "    <tr>\n",
       "      <td>222</td>\n",
       "      <td>18-Jul</td>\n",
       "      <td>135682</td>\n",
       "      <td>57877</td>\n",
       "      <td>39005</td>\n",
       "    </tr>\n",
       "    <tr>\n",
       "      <td>223</td>\n",
       "      <td>18-Aug</td>\n",
       "      <td>140226</td>\n",
       "      <td>60602</td>\n",
       "      <td>39648</td>\n",
       "    </tr>\n",
       "    <tr>\n",
       "      <td>224</td>\n",
       "      <td>18-Sep</td>\n",
       "      <td>139019</td>\n",
       "      <td>53930</td>\n",
       "      <td>40274</td>\n",
       "    </tr>\n",
       "    <tr>\n",
       "      <td>225</td>\n",
       "      <td>18-Oct</td>\n",
       "      <td>146462</td>\n",
       "      <td>54296</td>\n",
       "      <td>42674</td>\n",
       "    </tr>\n",
       "    <tr>\n",
       "      <td>226</td>\n",
       "      <td>18-Nov</td>\n",
       "      <td>145691</td>\n",
       "      <td>58507</td>\n",
       "      <td>41442</td>\n",
       "    </tr>\n",
       "    <tr>\n",
       "      <td>227</td>\n",
       "      <td>18-Dec</td>\n",
       "      <td>151761</td>\n",
       "      <td>59101</td>\n",
       "      <td>43485</td>\n",
       "    </tr>\n",
       "    <tr>\n",
       "      <td>228</td>\n",
       "      <td>19-Jan</td>\n",
       "      <td>149394</td>\n",
       "      <td>59170</td>\n",
       "      <td>42592</td>\n",
       "    </tr>\n",
       "    <tr>\n",
       "      <td>229</td>\n",
       "      <td>19-Feb</td>\n",
       "      <td>136571</td>\n",
       "      <td>48079</td>\n",
       "      <td>36689</td>\n",
       "    </tr>\n",
       "    <tr>\n",
       "      <td>230</td>\n",
       "      <td>19-Mar</td>\n",
       "      <td>150560</td>\n",
       "      <td>59077</td>\n",
       "      <td>42238</td>\n",
       "    </tr>\n",
       "    <tr>\n",
       "      <td>231</td>\n",
       "      <td>19-Apr</td>\n",
       "      <td>148481</td>\n",
       "      <td>59381</td>\n",
       "      <td>40909</td>\n",
       "    </tr>\n",
       "    <tr>\n",
       "      <td>232</td>\n",
       "      <td>19-May</td>\n",
       "      <td>153857</td>\n",
       "      <td>59336</td>\n",
       "      <td>42392</td>\n",
       "    </tr>\n",
       "    <tr>\n",
       "      <td>233</td>\n",
       "      <td>19-Jun</td>\n",
       "      <td>149320</td>\n",
       "      <td>56735</td>\n",
       "      <td>41993</td>\n",
       "    </tr>\n",
       "    <tr>\n",
       "      <td>234</td>\n",
       "      <td>19-Jul</td>\n",
       "      <td>157477</td>\n",
       "      <td>47715</td>\n",
       "      <td>43902</td>\n",
       "    </tr>\n",
       "    <tr>\n",
       "      <td>235</td>\n",
       "      <td>19-Aug</td>\n",
       "      <td>159339</td>\n",
       "      <td>62362</td>\n",
       "      <td>44705</td>\n",
       "    </tr>\n",
       "    <tr>\n",
       "      <td>236</td>\n",
       "      <td>19-Sep</td>\n",
       "      <td>155728</td>\n",
       "      <td>56941</td>\n",
       "      <td>42123</td>\n",
       "    </tr>\n",
       "    <tr>\n",
       "      <td>237</td>\n",
       "      <td>19-Oct</td>\n",
       "      <td>163072</td>\n",
       "      <td>58952</td>\n",
       "      <td>45868</td>\n",
       "    </tr>\n",
       "    <tr>\n",
       "      <td>238</td>\n",
       "      <td>19-Nov</td>\n",
       "      <td>159819</td>\n",
       "      <td>59580</td>\n",
       "      <td>44318</td>\n",
       "    </tr>\n",
       "    <tr>\n",
       "      <td>239</td>\n",
       "      <td>19-Dec</td>\n",
       "      <td>166665</td>\n",
       "      <td>59911</td>\n",
       "      <td>44607</td>\n",
       "    </tr>\n",
       "    <tr>\n",
       "      <td>240</td>\n",
       "      <td>20-Jan</td>\n",
       "      <td>167659</td>\n",
       "      <td>61426</td>\n",
       "      <td>43371</td>\n",
       "    </tr>\n",
       "    <tr>\n",
       "      <td>241</td>\n",
       "      <td>20-Feb</td>\n",
       "      <td>155408</td>\n",
       "      <td>57164</td>\n",
       "      <td>41378</td>\n",
       "    </tr>\n",
       "    <tr>\n",
       "      <td>242</td>\n",
       "      <td>20-Mar</td>\n",
       "      <td>168450</td>\n",
       "      <td>59854</td>\n",
       "      <td>43665</td>\n",
       "    </tr>\n",
       "    <tr>\n",
       "      <td>243</td>\n",
       "      <td>20-Apr</td>\n",
       "      <td>156003</td>\n",
       "      <td>57440</td>\n",
       "      <td>36424</td>\n",
       "    </tr>\n",
       "  </tbody>\n",
       "</table>\n",
       "</div>"
      ],
      "text/plain": [
       "       Date  Texas()  Federal Offshore--Gulf of Mexico()  North Dakota()\n",
       "207  17-Apr    99595                               49933           31208\n",
       "208  17-May   105298                               52233           31840\n",
       "209  17-Jun   102763                               48940           30693\n",
       "210  17-Jul   106940                               54461           32255\n",
       "211  17-Aug   103967                               53277           33437\n",
       "212  17-Sep   106077                               50801           32883\n",
       "213  17-Oct   115887                               45956           36309\n",
       "214  17-Nov   115741                               50943           35482\n",
       "215  17-Dec   121005                               48649           36085\n",
       "216  18-Jan   120488                               50767           36057\n",
       "217  18-Feb   112244                               47954           32501\n",
       "218  18-Mar   129348                               52846           35538\n",
       "219  18-Apr   126677                               48081           36290\n",
       "220  18-May   130717                               47628           38137\n",
       "221  18-Jun   130759                               49913           36479\n",
       "222  18-Jul   135682                               57877           39005\n",
       "223  18-Aug   140226                               60602           39648\n",
       "224  18-Sep   139019                               53930           40274\n",
       "225  18-Oct   146462                               54296           42674\n",
       "226  18-Nov   145691                               58507           41442\n",
       "227  18-Dec   151761                               59101           43485\n",
       "228  19-Jan   149394                               59170           42592\n",
       "229  19-Feb   136571                               48079           36689\n",
       "230  19-Mar   150560                               59077           42238\n",
       "231  19-Apr   148481                               59381           40909\n",
       "232  19-May   153857                               59336           42392\n",
       "233  19-Jun   149320                               56735           41993\n",
       "234  19-Jul   157477                               47715           43902\n",
       "235  19-Aug   159339                               62362           44705\n",
       "236  19-Sep   155728                               56941           42123\n",
       "237  19-Oct   163072                               58952           45868\n",
       "238  19-Nov   159819                               59580           44318\n",
       "239  19-Dec   166665                               59911           44607\n",
       "240  20-Jan   167659                               61426           43371\n",
       "241  20-Feb   155408                               57164           41378\n",
       "242  20-Mar   168450                               59854           43665\n",
       "243  20-Apr   156003                               57440           36424"
      ]
     },
     "execution_count": 107,
     "metadata": {},
     "output_type": "execute_result"
    }
   ],
   "source": [
    "#Top 3\n",
    "Top=StateProduction[[\"Date\",\"Texas()\",\"Federal Offshore--Gulf of Mexico()\",\"North Dakota()\"]]\n",
    "Top=Top[207:]\n",
    "Top"
   ]
  },
  {
   "cell_type": "code",
   "execution_count": 110,
   "metadata": {},
   "outputs": [
    {
     "data": {
      "image/png": "[encoded data removed]",
      "text/plain": [
       "<Figure size 1152x720 with 1 Axes>"
      ]
     },
     "metadata": {
      "needs_background": "light"
     },
     "output_type": "display_data"
    }
   ],
   "source": [
    "plt.figure(figsize=(16, 10))\n",
    "plt.plot(Top[\"Date\"],Top[\"Texas()\"],'b-',label = 'Texas')\n",
    "plt.plot(Top[\"Date\"],Top[\"Federal Offshore--Gulf of Mexico()\"],'r-',label = \"Federal Offshore Gulf of Mexico\")\n",
    "plt.plot(Top[\"Date\"],Top[\"North Dakota()\"],'y-',label = 'North Dakota')\n",
    "plt.title('Top 3 Production States')\n",
    "plt.legend();"
   ]
  },
  {
   "cell_type": "code",
   "execution_count": null,
   "metadata": {},
   "outputs": [],
   "source": []
  }
 ],
 "metadata": {
  "kernelspec": {
   "display_name": "Python 3",
   "language": "python",
   "name": "python3"
  },
  "language_info": {
   "codemirror_mode": {
    "name": "ipython",
    "version": 3
   },
   "file_extension": ".py",
   "mimetype": "text/x-python",
   "name": "python",
   "nbconvert_exporter": "python",
   "pygments_lexer": "ipython3",
   "version": "3.7.4"
  }
 },
 "nbformat": 4,
 "nbformat_minor": 2
}
